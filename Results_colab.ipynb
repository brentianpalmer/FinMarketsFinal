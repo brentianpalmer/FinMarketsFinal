{
  "nbformat": 4,
  "nbformat_minor": 0,
  "metadata": {
    "colab": {
      "name": "Results_colab.ipynb",
      "provenance": [],
      "collapsed_sections": [],
      "authorship_tag": "ABX9TyMRljpXNKHR1Gm3R2npKMTF",
      "include_colab_link": true
    },
    "kernelspec": {
      "name": "python3",
      "display_name": "Python 3"
    },
    "language_info": {
      "name": "python"
    }
  },
  "cells": [
    {
      "cell_type": "markdown",
      "metadata": {
        "id": "view-in-github",
        "colab_type": "text"
      },
      "source": [
        "<a href=\"https://colab.research.google.com/github/brentianpalmer/FinMarketsFinal/blob/main/Results_colab.ipynb\" target=\"_parent\"><img src=\"https://colab.research.google.com/assets/colab-badge.svg\" alt=\"Open In Colab\"/></a>"
      ]
    },
    {
      "cell_type": "code",
      "metadata": {
        "colab": {
          "base_uri": "https://localhost:8080/"
        },
        "id": "bNua0W8rgUqm",
        "outputId": "839449fb-ca25-4b80-c96c-8cc8edd63b19"
      },
      "source": [
        "#@title\n",
        "import math\n",
        "import numpy as np\n",
        "from scipy.stats import norm\n",
        "import matplotlib.pyplot as plt\n",
        "import pprint\n",
        "from statsmodels.iolib.table import SimpleTable\n",
        "import pandas as pd\n",
        "import collections\n",
        "\n",
        "inputs = {\n",
        "          'delta': 0.25, \n",
        "          'T': 3, \n",
        "          'q': 0, \n",
        "          'k_stock_lognormal': 1, \n",
        "          'k_libor_lognormal': 1,\n",
        "          'Nsim': 100000, \n",
        "          'L0': 0.0034, \n",
        "          'sigma_l': 0.08, \n",
        "          'sigma_p': 0.05, \n",
        "          'rho_sl': 0.65, \n",
        "          'xp': [1.0/12, 2.0/12, 3.0/12, 0.5, 1, 2, 3, 5, 7, 10, 20, 30],\n",
        "          'yp': [0.02,\t0.01,\t0.02,\t0.04,\t0.05,\t0.16,\n",
        "                 0.32,\t0.80,\t1.27,\t1.63,\t2.20,\t2.32], \n",
        "          }\n",
        "\n",
        "def lognormalPricer(inputs=inputs):\n",
        "    outputs = {}\n",
        "    T = inputs.get('T')\n",
        "    delta = inputs.get('delta')\n",
        "    k_stock_lognormal = inputs.get('k_stock_lognormal')\n",
        "    S0 = 271.27211906501435\n",
        "    # Japan 3 year government bond yield (from market data (3yr yield)\n",
        "    r_f = -0.00138\n",
        "    # -------- Correlations --------- #\n",
        "    # Correlation stock and exchange rate #\n",
        "    rho_sx = -0.3049678  # correl (NI225 in USD, USD/JPY (DOM exchange rate))\n",
        "    \n",
        "    # Correl (NI225 in USD, bond maturing in 3 years) *** THIS IS MADE UP ***\n",
        "    rho_sl = inputs.get('rho_sl')\n",
        "    rho_sp = -rho_sl\n",
        "    # -------- Volatilities --------- #\n",
        "    sigma_s = 0.199468950979314  # Volatility of NI225 in USD\n",
        "    sigma_x = 0.0519824811701589  # Volatility of USD/JPY (DOM exchange rate).\n",
        "\n",
        "    quanto_adj = r_f - inputs.get('q') - rho_sx * sigma_s * sigma_x\n",
        "    girsanov_chg_measure_QT = sigma_s * inputs.get('sigma_p') * rho_sp\n",
        "\n",
        "    Nsim = inputs.get('Nsim')\n",
        "    # Process for Generating Correlated Random Samples from Normal distribution from Hull Chapter 21\n",
        "    # np.random.seed(456)\n",
        "    # random sample from standard normal dist\n",
        "    rand1 = np.random.normal(0, 1, Nsim)\n",
        "    # another random sample from different standard normal dist\n",
        "    rand2 = np.random.normal(0, 1, Nsim)\n",
        "    eps = rand1  # eps for stock lognormal simulation\n",
        "    # eps for libor lognormal simulation\n",
        "    eps_tilda = (rho_sl*rand1)+rand2*np.sqrt(1-rho_sl**2)\n",
        "    outputs['eps'] = eps\n",
        "    outputs['eps_tilda'] = eps_tilda\n",
        "\n",
        "    # As a result, we now can simulate ST with a one-step monte carlo as follows:\n",
        "    ST = S0 * np.exp((quanto_adj + girsanov_chg_measure_QT-0.5 *\n",
        "                      sigma_s*sigma_s)*T + sigma_s*np.sqrt(T)*eps) # The MC scheme with vectorized NumPy code handling all paths at once.\n",
        "    ST_avg = np.average(ST)\n",
        "\n",
        "    # Equity Ratio at time T:\n",
        "    ST_over_S0 = ST/S0\n",
        "    ST_over_S0_avg = np.average(ST_over_S0)\n",
        "\n",
        "    # Equity Ratio vs. strike price k\n",
        "    ST_over_S0_k = ST_over_S0-k_stock_lognormal\n",
        "    ST_over_S0_avg_k = ST_over_S0_avg-k_stock_lognormal\n",
        "\n",
        "    outputs['ST'] = ST\n",
        "    outputs['ST_avg'] = ST_avg\n",
        "    outputs['ST_over_S0'] = ST_over_S0\n",
        "    outputs['ST_over_S0_avg'] = ST_over_S0_avg\n",
        "    outputs['ST_over_S0_k'] = ST_over_S0_k\n",
        "    outputs['ST_over_S0_avg_k'] = ST_over_S0_avg_k\n",
        "\n",
        "    xp = inputs.get('xp')\n",
        "    yp = inputs.get('yp')\n",
        "    L0 = inputs.get('L0')\n",
        "\n",
        "    x_hat = np.arange(0, 30.25, 0.25)\n",
        "    y_interp = np.interp(x_hat, xp, yp)\n",
        "    \n",
        "    # Y(0,T) is the yield-to-maturity on a zero coupon bond maturing at time T, \n",
        "    # which we use to calculate p(0,T).\n",
        "    y_0T = np.interp(T, xp, yp)\n",
        "\n",
        "    # Y(0,T-delta) is the yield-to-maturity on a zero coupon bond maturing \n",
        "    # at time T-delta. This is used to calculated p(0,T-delta).\n",
        "    y_0Td = np.interp(T-delta, xp, yp)\n",
        "    \n",
        "    # p(0,T) is the value at time 0 of receiving a dollar at time T\n",
        "    # This is also called the discount factor\n",
        "    p_0T = np.exp(-y_0T/100*T)\n",
        "\n",
        "    # p(0,T-delta)is the value at time 0 of receiving a dollar at time T-delta\n",
        "    p_0Td = np.exp(-y_0Td/100*(T-delta)) \n",
        "\n",
        "    # sigma_l is the vol of libor\n",
        "    sigma_l = inputs.get('sigma_l')\n",
        "\n",
        "    # We then simulate L(T-delta,T-delta,T) via a Monte Carlo simulation \n",
        "    # starting at L0\n",
        "    L_TdTdT = L0 * np.exp(sigma_l * np.sqrt(T - delta) *\n",
        "                         eps_tilda - 0.5*sigma_l*sigma_l*(T-delta))\n",
        "    \n",
        "    # Average L(T-delta,T-delta,T) # Numerator of payoff\n",
        "    L_TdTdT_avg = np.average(L_TdTdT) \n",
        "\n",
        "\n",
        "    # We then derive from market data for L(0,T-delta,T) \n",
        "    # L(0,T-delta,T) is L_0TdT #Denominator of payoff\n",
        "    L_0TdT = -(p_0T - p_0Td)/(delta*p_0T)\n",
        "\n",
        "    # Average of L(0,T-delta,T) is L_0TdT #Denominator of payoff L(0,T-delta,T)\n",
        "    L_0TdT_avg = np.average(L_0TdT)\n",
        "\n",
        "    # Libor ratio of payoff L(T-delta,T-delta,T) over L(0,T-delta,T)\n",
        "    L_TdTdT_over_L_0TdT = L_TdTdT/L_0TdT\n",
        "    L_TdTdT_over_L_0TdT_avg = np.average(L_TdTdT_over_L_0TdT)\n",
        "\n",
        "    # Get libor strike K from inputs\n",
        "    k_libor_lognormal = inputs.get('k_libor_lognormal')\n",
        "    \n",
        "    # Calculate payoff for equity and libor ratios relative to strikes, k, and multiply\n",
        "    pi = np.maximum(0, np.multiply(\n",
        "        (ST_over_S0 - k_stock_lognormal), (k_libor_lognormal-L_TdTdT_over_L_0TdT)))\n",
        "    pi_avg = np.average(pi)\n",
        "\n",
        "    # Discount pi back to today using p(0,T)\n",
        "    price = p_0T * pi_avg\n",
        "\n",
        "    outputs['x_hat'] = x_hat\n",
        "    outputs['y_interp'] = y_interp\n",
        "    outputs['y_0T'] = y_0T\n",
        "    outputs['y_0Td'] = y_0Td\n",
        "    outputs['p_0T'] = p_0T\n",
        "    outputs['p_0Td'] = p_0Td\n",
        "    outputs['L_0TdT'] = L_0TdT\n",
        "    outputs['L_0TdT_avg'] = L_0TdT_avg\n",
        "    outputs['L_TdTdT'] = L_TdTdT\n",
        "    outputs['L_TdTdT_avg'] = L_TdTdT_avg\n",
        "    outputs['L_TdTdT_over_L_0TdT'] = L_TdTdT_over_L_0TdT\n",
        "    outputs['L_TdTdT_over_L_0TdT_avg'] = L_TdTdT_over_L_0TdT_avg\n",
        "    outputs['pi'] = pi\n",
        "    outputs['pi_avg'] = pi_avg\n",
        "    outputs['price'] = price\n",
        "\n",
        "    return outputs\n",
        "\n",
        "outputs = lognormalPricer(inputs)\n",
        "\n",
        "print(\"Complete\")\n",
        "\n"
      ],
      "execution_count": null,
      "outputs": [
        {
          "output_type": "stream",
          "text": [
            "Complete\n"
          ],
          "name": "stdout"
        }
      ]
    },
    {
      "cell_type": "code",
      "metadata": {
        "cellView": "form",
        "id": "IiWiX2m26IiY"
      },
      "source": [
        "#@title\n",
        "def stock_graph():\n",
        "    S0 = inputs.get('S0')\n",
        "    ST = outputs.get('ST')\n",
        "    ST_avg = outputs.get('ST_avg')\n",
        "    x = []\n",
        "    y = []\n",
        "    for i in ST:\n",
        "        y.append(i)\n",
        "        y.append(S0)\n",
        "        x.append(1)\n",
        "        x.append(0)\n",
        "    plt.figure(figsize=(10, 6))\n",
        "    plt.title(\"One-Step Monte Carlo Simulation for Stock\")\n",
        "    plt.plot(x, y, label='paths')\n",
        "    plt.axhline(ST_avg, color='r', label='mean value of ST')\n",
        "    plt.legend(loc='upper left')\n",
        "    plt.xticks()\n",
        "    plt.xticks(np.arange(0, 1.1, step=1))\n",
        "    plt.xticks([0, 1], ['0', 'T'])\n",
        "    print(\"ST mean: \", ST.mean())\n",
        "    plt.show()\n",
        "\n",
        "def ST_outcomes():\n",
        "    ST = outputs.get('ST')\n",
        "    ST_avg = outputs.get('ST_avg')\n",
        "    plt.figure(figsize=(10, 6))\n",
        "    plt.hist(ST, bins=35, label='ST')\n",
        "    plt.axvline(ST_avg, color='r', label='ST_avg')\n",
        "    plt.title(\"ST Outcomes\")\n",
        "    plt.legend(loc=0)\n",
        "    print(\"ST_avg: \", ST_avg)\n",
        "    plt.legend(loc=0)\n",
        "    plt.show()\n",
        "\n",
        "def ST_over_SO_outcomes():\n",
        "    ST_over_S0_avg = outputs.get('ST_over_S0_avg')\n",
        "    ST_over_S0 = outputs.get('ST_over_S0')\n",
        "    plt.figure(figsize=(10, 6))\n",
        "    plt.hist(ST_over_S0, bins=35, label='Stock Payoff (ST/SO)')\n",
        "    plt.title(\"Stock Payoff (ST/S0)\")\n",
        "    plt.axvline(ST_over_S0_avg, color='r', label='Stock_payoff_avg')\n",
        "    plt.legend(loc=0)\n",
        "    print(\"ST_over_S0_avg (ST/S0): \", ST_over_S0_avg)\n",
        "    plt.legend(loc=0)\n",
        "    # print(\"Stock Portion of Payoff ((ST/S0)- k, where k=1): \", ST_over_S0_avg-1)\n",
        "    plt.show()\n",
        "\n",
        "def yield_curve_display():\n",
        "    xp = inputs.get('xp')\n",
        "    yp = inputs.get('yp')\n",
        "    x_hat = outputs.get('x_hat')\n",
        "    y_interp = outputs.get('y_interp')\n",
        "    plt.figure(figsize=(10, 6))\n",
        "    plt.plot(xp, yp, 'o', label='US Treasury Yield Curve Constant Maturity Rates')\n",
        "    plt.title(\"Interpolated US Treasury Yield Curve Rates on May 10, 2021\")\n",
        "    plt.plot(x_hat, y_interp, 'o', alpha=0.5, label='Interpolated Treasury Yield Curve')\n",
        "    plt.legend(loc=0)\n",
        "    plt.xlabel(\"Maturity\")\n",
        "    plt.ylabel(\"Yield\")\n",
        "    plt.show()\n",
        "\n",
        "def TS_info():\n",
        "    y_0T = outputs.get('y_0T')\n",
        "    print (\"y_0T:\", y_0T)\n",
        "    y_0Td = outputs.get('y_0Td') \n",
        "    print (\"y_0Td:\", y_0Td)\n",
        "    p_0T = outputs.get('p_0T') \n",
        "    print(\"p_0T: \",p_0T)    \n",
        "    L0 = inputs.get('L0')\n",
        "    print(\"L0: \",L0)\n",
        "\n",
        "def L_TdTdT_Outcomes():\n",
        "    L_TdTdT = outputs.get('L_TdTdT')\n",
        "    L_TdTdT_avg = outputs.get('L_TdTdT_avg')\n",
        "    plt.figure(figsize=(10, 6))\n",
        "    plt.hist(L_TdTdT, label='L_TdTdT')\n",
        "    plt.axvline(L_TdTdT_avg, color='r', label='L_TdTdT_avg')\n",
        "    plt.title(\"L_TdTdT_Outcomes\")\n",
        "    print(\"L_TdTdT_avg: \", L_TdTdT_avg)\n",
        "    plt.legend(loc=0)\n",
        "    plt.show()\n",
        "\n",
        "def L_TdTdT_over_L_0TdT_Outcomes():\n",
        "    L_TdTdT_over_L_0TdT = outputs.get('L_TdTdT_over_L_0TdT')\n",
        "    L_TdTdT_over_L_0TdT_avg = outputs.get('L_TdTdT_over_L_0TdT_avg')\n",
        "    print(\"L_TdTdT_over_L_0TdT_avg: \", L_TdTdT_over_L_0TdT_avg)\n",
        "    plt.figure(figsize=(10, 6))\n",
        "    plt.hist(L_TdTdT_over_L_0TdT, label='L')\n",
        "    plt.axvline(L_TdTdT_over_L_0TdT_avg, color='r', label='L_TdTdT_over_L_0TdT_avg')\n",
        "    plt.title(\"L_TdTdT_over_L_0TdT_Outcomes\")\n",
        "    plt.legend(loc=0)\n",
        "    plt.show()\n",
        "\n",
        "def pi_outcomes():\n",
        "    plt.figure(figsize=(10, 6))\n",
        "    pi = outputs.get('pi')\n",
        "    pi_avg = outputs.get('pi_avg')\n",
        "    plt.hist(pi)\n",
        "    plt.title(\"Method 2: payoff at T\")\n",
        "    print(\"Average payoff is: \", pi_avg)\n",
        "    plt.show()\n",
        "\n",
        "def display_price():\n",
        "    price = outputs.get('price')\n",
        "    print(price)\n"
      ],
      "execution_count": null,
      "outputs": []
    },
    {
      "cell_type": "code",
      "metadata": {
        "colab": {
          "base_uri": "https://localhost:8080/"
        },
        "id": "ePnuu7km1eJx",
        "cellView": "form",
        "outputId": "a074b44f-8ee6-423c-9bd5-5a51752931dc"
      },
      "source": [
        "#@title\n",
        "print(\"Inputs:\")\n",
        "\n",
        "for k,v in inputs.items():\n",
        "  print(k,v)"
      ],
      "execution_count": null,
      "outputs": [
        {
          "output_type": "stream",
          "text": [
            "Inputs:\n",
            "delta 0.25\n",
            "T 3\n",
            "q 0\n",
            "k_stock_lognormal 1\n",
            "k_libor_lognormal 1\n",
            "Nsim 100000\n",
            "L0 0.0034\n",
            "sigma_l 0.08\n",
            "sigma_p 0.05\n",
            "rho_sl 0.65\n",
            "xp [0.08333333333333333, 0.16666666666666666, 0.25, 0.5, 1, 2, 3, 5, 7, 10, 20, 30]\n",
            "yp [0.02, 0.01, 0.02, 0.04, 0.05, 0.16, 0.32, 0.8, 1.27, 1.63, 2.2, 2.32]\n"
          ],
          "name": "stdout"
        }
      ]
    },
    {
      "cell_type": "code",
      "metadata": {
        "id": "QuCZbA2yvMNm",
        "colab": {
          "base_uri": "https://localhost:8080/"
        },
        "cellView": "form",
        "outputId": "7216a037-1085-45c3-fefd-6b2f6a84c13f"
      },
      "source": [
        "#@title\n",
        "display_outputs = {key: outputs[key] for key in outputs.keys()\n",
        "                               & { 'ST_avg', \n",
        "'ST_over_S0_avg', \n",
        "'ST_over_S0_avg_k',\n",
        "'y_0T', 'y_0Td', 'p_0T', 'p_0Td' ,'L_0TdT_avg', 'L_TdTdT_avg', 'L_TdTdT_over_L_0TdT_avg', 'pi_avg', 'price'}}\n",
        "\n",
        "display_outputs_ordered = collections.OrderedDict()\n",
        "\n",
        "display_outputs_ordered['ST_over_S0_avg'] = display_outputs['ST_over_S0_avg']\n",
        "display_outputs_ordered['ST_over_S0_avg_k'] = display_outputs['ST_over_S0_avg_k']\n",
        "display_outputs_ordered['y_0T'] = display_outputs['y_0Td']\n",
        "display_outputs_ordered['p_0T'] = display_outputs['p_0T']\n",
        "display_outputs_ordered['p_0Td'] = display_outputs['p_0Td']\n",
        "display_outputs_ordered['L_0TdT_avg'] = display_outputs['L_0TdT_avg']\n",
        "display_outputs_ordered['L_TdTdT_avg'] = display_outputs['L_TdTdT_avg']\n",
        "display_outputs_ordered['L_TdTdT_over_L_0TdT_avg'] = display_outputs['L_TdTdT_over_L_0TdT_avg']\n",
        "display_outputs_ordered['pi_avg'] = display_outputs['pi_avg']\n",
        "display_outputs_ordered['price'] = display_outputs['price']\n",
        "\n",
        "print(\"Simulation Results:\")\n",
        "for k, v in display_outputs_ordered.items():\n",
        "    print (k, v)\n"
      ],
      "execution_count": null,
      "outputs": [
        {
          "output_type": "stream",
          "text": [
            "Simulation Results:\n",
            "ST_over_S0_avg 0.9860195136559762\n",
            "ST_over_S0_avg_k -0.013980486344023824\n",
            "y_0T 0.28\n",
            "p_0T 0.990445932897216\n",
            "p_0Td 0.9923295690574124\n",
            "L_0TdT_avg 0.007607224574839476\n",
            "L_TdTdT_avg 0.003399659844192899\n",
            "L_TdTdT_over_L_0TdT_avg 0.4468988407989306\n",
            "pi_avg 0.06391136659616857\n",
            "price 0.06330075311107815\n"
          ],
          "name": "stdout"
        }
      ]
    },
    {
      "cell_type": "code",
      "metadata": {
        "id": "igCAc7MuvvpV",
        "cellView": "form"
      },
      "source": [
        "#@title\n",
        "df_results = pd.DataFrame.from_dict([display_outputs_ordered])\n",
        "df_results\n",
        "df_results.to_excel(\"df_results.xlsx\", sheet_name='Sheet_name_1')"
      ],
      "execution_count": null,
      "outputs": []
    },
    {
      "cell_type": "code",
      "metadata": {
        "colab": {
          "base_uri": "https://localhost:8080/",
          "height": 796
        },
        "id": "UfJZH6vIhxL0",
        "outputId": "3274d65a-8142-4c13-9917-0b290338e4ad"
      },
      "source": [
        "#@title\n",
        "\n",
        "# stock_graph()\n",
        "\n",
        "ST_outcomes()\n",
        "ST_over_SO_outcomes()\n"
      ],
      "execution_count": null,
      "outputs": [
        {
          "output_type": "stream",
          "text": [
            "ST_avg:  267.47960290891166\n"
          ],
          "name": "stdout"
        },
        {
          "output_type": "display_data",
          "data": {
            "image/png": "[encoded data removed]",
            "text/plain": [
              "<Figure size 720x432 with 1 Axes>"
            ]
          },
          "metadata": {
            "tags": [],
            "needs_background": "light"
          }
        },
        {
          "output_type": "stream",
          "text": [
            "ST_over_S0_avg (ST/S0):  0.9860195136559762\n"
          ],
          "name": "stdout"
        },
        {
          "output_type": "display_data",
          "data": {
            "image/png": "[encoded data removed]",
            "text/plain": [
              "<Figure size 720x432 with 1 Axes>"
            ]
          },
          "metadata": {
            "tags": [],
            "needs_background": "light"
          }
        }
      ]
    },
    {
      "cell_type": "code",
      "metadata": {
        "colab": {
          "base_uri": "https://localhost:8080/",
          "height": 473
        },
        "id": "FkW2HI8IrnuS",
        "outputId": "279cb47f-1cd5-4e47-cc7f-37112bcc8fbc"
      },
      "source": [
        "yield_curve_display()\n",
        "TS_info()"
      ],
      "execution_count": null,
      "outputs": [
        {
          "output_type": "display_data",
          "data": {
            "image/png": "[encoded data removed]",
            "text/plain": [
              "<Figure size 720x432 with 1 Axes>"
            ]
          },
          "metadata": {
            "tags": [],
            "needs_background": "light"
          }
        },
        {
          "output_type": "stream",
          "text": [
            "y_0T: 0.32\n",
            "y_0Td: 0.28\n",
            "p_0T:  0.990445932897216\n",
            "L0:  0.0034\n"
          ],
          "name": "stdout"
        }
      ]
    },
    {
      "cell_type": "code",
      "metadata": {
        "colab": {
          "base_uri": "https://localhost:8080/",
          "height": 1000
        },
        "id": "PQ5c3BO8rpOe",
        "outputId": "12e6aa39-b185-4b67-bab4-380421e45c5c"
      },
      "source": [
        "L_TdTdT_Outcomes()\n",
        "L_TdTdT_over_L_0TdT_Outcomes()\n",
        "pi_outcomes()\n",
        "display_price()"
      ],
      "execution_count": null,
      "outputs": [
        {
          "output_type": "stream",
          "text": [
            "L_TdTdT_avg:  0.003399659844192899\n"
          ],
          "name": "stdout"
        },
        {
          "output_type": "display_data",
          "data": {
            "image/png": "[encoded data removed]",
            "text/plain": [
              "<Figure size 720x432 with 1 Axes>"
            ]
          },
          "metadata": {
            "tags": [],
            "needs_background": "light"
          }
        },
        {
          "output_type": "stream",
          "text": [
            "L_TdTdT_over_L_0TdT_avg:  0.4468988407989306\n"
          ],
          "name": "stdout"
        },
        {
          "output_type": "display_data",
          "data": {
            "image/png": "[encoded data removed]",
            "text/plain": [
              "<Figure size 720x432 with 1 Axes>"
            ]
          },
          "metadata": {
            "tags": [],
            "needs_background": "light"
          }
        },
        {
          "output_type": "stream",
          "text": [
            "Average payoff is:  0.06391136659616857\n"
          ],
          "name": "stdout"
        },
        {
          "output_type": "display_data",
          "data": {
            "image/png": "[encoded data removed]",
            "text/plain": [
              "<Figure size 720x432 with 1 Axes>"
            ]
          },
          "metadata": {
            "tags": [],
            "needs_background": "light"
          }
        },
        {
          "output_type": "stream",
          "text": [
            "0.06330075311107815\n"
          ],
          "name": "stdout"
        }
      ]
    }
  ]
}